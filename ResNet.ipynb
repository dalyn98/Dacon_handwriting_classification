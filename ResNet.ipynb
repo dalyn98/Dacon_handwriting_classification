{
 "cells": [
  {
   "cell_type": "markdown",
   "id": "5907fe54",
   "metadata": {},
   "source": [
    "### Resnet\n",
    "\n",
    "레이어가 많아져 신경망이 깊어질수록 기울기 소실/ 폭발 문제가 커진다  \n",
    "깊은 레이어까지 학습이 잘되도록 하는 방법이 shortcut(Skip) Connection 입니다\n",
    "\n",
    "low-level vision과 computer graphics 분야에서 Partial Differential Equations(PDEs)를 풀기 위해   \n",
    "Multigrid 방법들이 많이 사용됩니다.  \n",
    "이것은 다양한 스케일(크기)에서의 하위문제로 시스템을 재정의하는 것입니다.    \n",
    "쉽게 설명하면, 코카콜라 캔을 학습한다고 하였을 때, 코카콜라 캔이 가까이에서 찍힌 것은 크게 나타나고, 멀리서 찍힌 것은 작게 나타납니다.   \n",
    "이러한 스케일의 변화에 대응하기 위한 컴퓨터 비전 기술은 pyramid와 같은 형태의 multigrid를 만들어서 해결합니다.\n"
   ]
  },
  {
   "cell_type": "markdown",
   "id": "16c79187",
   "metadata": {},
   "source": [
    "그런데 다른점은 무엇이냐면, 이전에는 multigrid를 만들어서 (이미지 크기를 다양하게 하거나, 필터 크기를 다양하게 해서) 각각을 계산하는 방식을 사용하였습니다.   \n",
    "기존의 CNN 구조에서는 이전의 것이 다음으로 전달되어 영향을 미치게됩니다.   \n",
    "입력부분에 가까운 하위 레이어에서는 매우 단순한 구조나 노이지한 패턴이 보이는 low-level feature가 학습이되고, 출력부분에 가까운 상위 레이어에서는 구조적인 부분이 학습되는 high-level feature가 학습됩니다."
   ]
  },
  {
   "cell_type": "markdown",
   "id": "9419ce7c",
   "metadata": {},
   "source": [
    "그런데 앞선 부분의 feature가 뒤쪽까지 영향이 직접적으로 전달되는 것이 아니라, 중간을 거쳐 전달되기 때문에 학습의 과정에서 크게크게 변합니다.  \n",
    "그런데 shortcut connection을 추가해주게 되면 (수식적으로) 이전으로부터 얼만큼 변하는지 나머지(residual)만 계산하는 문제로 바뀌게 됩니다.  \n",
    "즉, 현재 레이어의 출력값과 이전 스케일의 레이어 출력값을 더해 입력을 받기 때문에,   \n",
    "그 차이를 볼 수 있게 되는 것이죠.  \n",
    "따라서 학습하는 과정에서 그 '조금'을 하면 되는 것이고, 더 빠르게 학습한다는 장점이 생깁니다!"
   ]
  },
  {
   "cell_type": "markdown",
   "id": "c61b088c",
   "metadata": {},
   "source": [
    "이전에 얕은 모델과 깊은 모델을 비교했을 때, 깊은 모델이 더 안좋아진다고 했었습니다.   \n",
    "그런데 Kaiming He는 그래서는 안된다고 했습니다.  \n",
    "그런 문제점을 identity mapping이라는 것을 통해 꼬집었습니다.   \n",
    "얕은 모델에서 단순히 아무것도 하지 않는 layer인(convolution을 통과하지 않고 값을 전달하는)  \n",
    "identity mapping을 쌓으면(덧셈 연산으로)   \n",
    "얕은 모델 그대로의 성능을 나타낼 것이라는 자명한 사실에 하나의 가정을 더합니다.  \n",
    "\"쌓여있는 레이어가 underlying mapping을 fit하는 것보다 residual mppaing을 fit하는 것이 쉽다.\"   \n",
    "그리고 shortcut connection이 이 역할을 정확하게 할 수 있다고 말합니다.   \n",
    "즉, 이전에 학습된 모델(레이어들)의 출력과 추가된 레이어의 출력의 차이값인 나머지(residual)만 학습하면 되기에 연산이 간단해지고, error값 크기의 측면에서 학습이 더 쉽다는 것입니다.\n",
    "\n",
    "identity mapping은 입력값을 그대로 전달한다는 의미에서 identity입니다.  \n",
    "위의 shortcut connection에서 identity로 표현한 것처럼,   \n",
    "shortcut connection과 identity mapping은 다른 것이 아니라,   \n",
    "의미적으로 identity는 값을 그대로 보낸다는 것입니다. :)"
   ]
  },
  {
   "cell_type": "markdown",
   "id": "ca84e087",
   "metadata": {},
   "source": [
    "1. 이미지에서는 H(x) = x가 되도록 학습시킨다.\n",
    "\n",
    "2. 네트워크의 output F(x)는 0이 되도록 학습시킨다.\n",
    "\n",
    "3. F(x)+x=H(x)=x가 되도록 학습시키면 미분해도 F(x)+x의 미분값은 F'(x) + 1로 최소 1이상이다.\n",
    "\n",
    "4. 모든 layer에서의 gradient가 1+F'(x)이므로 gradient vanishing현상을 해결했다."
   ]
  },
  {
   "cell_type": "code",
   "execution_count": null,
   "id": "86df33eb",
   "metadata": {},
   "outputs": [],
   "source": [
    "''' 처음을 제외하고는 균일하게 3 x 3 사이즈의 컨볼루션 필터를 사용했다\n",
    "그리고 특성맵의 사이즈가 반으로 줄어들 때 특성맵의 뎁스를 2배로 높임'''"
   ]
  },
  {
   "cell_type": "code",
   "execution_count": null,
   "id": "58f9ca96",
   "metadata": {},
   "outputs": [],
   "source": [
    "import pandas as pd\n",
    "import numpy as np\n",
    "from PIL import Image\n",
    "import matplotlib.pyplot as plt\n",
    "%matplotlib inline\n",
    "import warnings\n",
    "warnings.filterwarnings('ignore')\n",
    "from sklearn.model_selection import train_test_split\n",
    "import os, random, time\n",
    "import copy\n",
    "\n",
    "import albumentations as A\n",
    "from albumentations.pytorch.transforms import ToTensorV2"
   ]
  },
  {
   "cell_type": "code",
   "execution_count": null,
   "id": "b3a9e549",
   "metadata": {},
   "outputs": [],
   "source": [
    "# *------- Basic setup -------*\n",
    "import numpy as np\n",
    "import pandas as pd\n",
    "import os, random, time\n",
    "import copy\n",
    "from tqdm.notebook import tqdm\n",
    "from multiprocessing import cpu_count\n",
    "import matplotlib.pyplot as plt\n",
    "from PIL import Image\n",
    "\n",
    "# *------- torch -------*\n",
    "import torch\n",
    "import torch.nn as nn\n",
    "import torch.nn.functional as F\n",
    "from torch.utils.data import Dataset, DataLoader\n",
    "\n",
    "import torchvision\n",
    "from torchvision import transforms\n",
    "#import torchvision.transforms as transforms\n",
    "from torchsummary import summary\n",
    "\n",
    "# *------- albumentations -------*\n",
    "#!pip install albumentations==1.0.3\n",
    "import albumentations as A\n",
    "from albumentations.pytorch.transforms import ToTensorV2\n",
    "\n",
    "# *------- sklearn -------*\n",
    "from sklearn.model_selection import train_test_split\n",
    "\n",
    "# *------- path -------*\n",
    "base_path = \"./\"\n",
    "\n",
    "# test 폴더를 한 단계 상위 폴더로 옮겨서 사용했습니다.\n",
    "# 옮기지 않은 경우\n",
    "#test_path = os.path.join(base_path, \"test\",\"test\")\n",
    "test_path = os.path.join(base_path, \"test\")\n",
    "train_path = os.path.join(base_path, \"train\")"
   ]
  },
  {
   "cell_type": "code",
   "execution_count": null,
   "id": "83faa0d6",
   "metadata": {},
   "outputs": [],
   "source": [
    "path = './train/train_data.csv'\n",
    "\n",
    "df = pd.read_csv(path)\n",
    "df"
   ]
  },
  {
   "cell_type": "code",
   "execution_count": null,
   "id": "0f69b194",
   "metadata": {},
   "outputs": [],
   "source": [
    "train_file_name = df['filen_name']\n",
    "train_label = df['label']\n",
    "\n",
    "# image 파일을 불러온뒤 변수에 저장\n"
   ]
  },
  {
   "cell_type": "code",
   "execution_count": null,
   "id": "74a0ad5c",
   "metadata": {},
   "outputs": [],
   "source": [
    "tr_csv = pd.read_csv(os.path.join('./', \"train\",\"train_data.csv\"))\n",
    "tr_csv['path'] = tr_csv['filen_name'].apply(\n",
    "    lambda x: os.path.join('train',x))"
   ]
  },
  {
   "cell_type": "code",
   "execution_count": null,
   "id": "da98fdd5",
   "metadata": {},
   "outputs": [],
   "source": [
    "train_x, valid_x, train_y, valid_y = train_test_split(\n",
    "    tr_csv['path'].values, tr_csv[\"label\"].values, test_size=0.2, shuffle=True)"
   ]
  },
  {
   "cell_type": "code",
   "execution_count": null,
   "id": "6008718c",
   "metadata": {},
   "outputs": [],
   "source": [
    "def compute_acc(true, pred):\n",
    "    return sum(true == pred) / len(true)"
   ]
  },
  {
   "cell_type": "code",
   "execution_count": null,
   "id": "cec0a4b9",
   "metadata": {},
   "outputs": [],
   "source": [
    "def get_train_transforms():\n",
    "    return A.Compose([\n",
    "        A.HorizontalFlip(p=0.5),\n",
    "        A.OneOf([A.Rotate(limit=10),\n",
    "                 A.RandomBrightness(),\n",
    "                 A.CoarseDropout(),\n",
    "                 A.Cutout(num_holes=8, max_h_size=1, max_w_size=1, fill_value=1),\n",
    "                 ], p=1.0),\n",
    "        ToTensorV2(p=1.0)\n",
    "    ])\n",
    "def get_valid_transforms():\n",
    "    return ToTensorV2(p=1.0)\n",
    "\n",
    "def get_inferecne_transforms():\n",
    "    return ToTensorV2(p=1.0)"
   ]
  },
  {
   "cell_type": "code",
   "execution_count": null,
   "id": "df9d95de",
   "metadata": {},
   "outputs": [],
   "source": [
    "import torch\n",
    "from torch.utils.data import Dataset, DataLoader\n",
    "from torch import nn\n",
    "from torchvision import transforms\n",
    "import torch.nn.functional as F\n",
    "\n",
    "class MNIST(Dataset):\n",
    "    def __init__(self,X=None, y=None,transforms = None):\n",
    "            super().__init__()\n",
    "            self.file_path_list = X\n",
    "            self.labels = y \n",
    "            self.transforms = transforms\n",
    "    def __getitem__(self,idx):\n",
    "        image = Image.open(self.file_path_list[idx]).convert(\"RGB\")\n",
    "        image = np.array(image, dtype = np.float32)\n",
    "        image /= 255\n",
    "        if self.transforms:\n",
    "            image = self.transforms(image=image)['image']\n",
    "            \n",
    "        if self.labels is not None:\n",
    "            label = self.labels[idx]\n",
    "            label = torch.tensor(label,dtype = torch.int64)\n",
    "            return image, label\n",
    "         \n",
    "        return image\n",
    "    \n",
    "    def __len__(self):\n",
    "        return len(self.file_path_list)"
   ]
  },
  {
   "cell_type": "code",
   "execution_count": null,
   "id": "6d792e0d",
   "metadata": {},
   "outputs": [],
   "source": [
    "def set_seed(seed):\n",
    "    np.random.seed(seed)\n",
    "    random.seed(seed)\n",
    "    os.environ['PYTHONHASHSEED'] = str(seed)\n",
    "    torch.manual_seed(seed)\n",
    "    torch.cuda.manual_seed(seed)\n",
    "    torch.cuda.manual_seed_all(seed)\n",
    "\n",
    "set_seed(1010)\n",
    "\n",
    "DEVICE = torch.device('cuda') if torch.cuda.is_available() else torch.device('cpu')\n",
    "IMG_SIZE = (28,28)\n",
    "BATCH_SIZE = 32\n",
    "LEARNING_RATE = 0.001\n",
    "NUM_CLASSES = 10\n",
    "NUM_EPOCHS = 50\n",
    "NUM_CPU = cpu_count()"
   ]
  },
  {
   "cell_type": "code",
   "execution_count": null,
   "id": "c0af4492",
   "metadata": {},
   "outputs": [],
   "source": [
    "class MNIST(Dataset):\n",
    "    def __init__(self, X=None, y=None, transforms=None):\n",
    "        super().__init__()\n",
    "        self.X = X\n",
    "        self.y = y\n",
    "        self.transforms = transforms\n",
    "\n",
    "    def __len__(self):\n",
    "        return len(self.X)\n",
    "\n",
    "    def __getitem__(self, idx):\n",
    "        img_path = self.X[idx]\n",
    "        img = Image.open(img_path).convert(\"RGB\")\n",
    "        img = np.array(img, dtype=np.float32)\n",
    "        img /= 255\n",
    "        \n",
    "        if self.transforms:\n",
    "            img = self.transforms(image=img)['image']\n",
    "        \n",
    "        if self.y is not None:\n",
    "            label = self.y[idx]\n",
    "            label = torch.tensor(label, dtype=torch.int64)\n",
    "            return img, label\n",
    "        else:\n",
    "            return img"
   ]
  },
  {
   "cell_type": "code",
   "execution_count": null,
   "id": "6b12d73a",
   "metadata": {},
   "outputs": [],
   "source": [
    "train_data = MNIST(train_x,train_y,get_train_transforms())\n",
    "test_data = MNIST(valid_x,valid_y,get_valid_transforms())\n",
    "train_dl = DataLoader(train_data,batch_size =32, shuffle = True, num_workers = NUM_CPU)\n",
    "test_dl = DataLoader(test_data,batch_size =32, shuffle = False, num_workers = NUM_CPU)"
   ]
  },
  {
   "cell_type": "code",
   "execution_count": null,
   "id": "f0e5c6df",
   "metadata": {},
   "outputs": [],
   "source": [
    "len(train_data)"
   ]
  },
  {
   "cell_type": "code",
   "execution_count": null,
   "id": "aac61fb0",
   "metadata": {},
   "outputs": [],
   "source": [
    "device = torch.device('cuda:0' if torch.cuda.is_available() else 'cpu')\n",
    "print(f'{device} is available')"
   ]
  },
  {
   "cell_type": "code",
   "execution_count": null,
   "id": "0d96b4e2",
   "metadata": {},
   "outputs": [],
   "source": [
    "class BasicBlock(nn.Module):\n",
    "    expansion = 1\n",
    "    def __init__(self,in_channels, out_channels, stride = 1):\n",
    "        super().__init__()\n",
    "        #Batch Norm에 bias가 포함되어 있음으로 conv2d는 bias=Flase로 설정\n",
    "        \n",
    "        self.residual_function = nn.Sequential(\n",
    "            nn.Conv2d(in_channels, out_channels, kernel_size = 3, stride=stride,padding =1,bias=False),\n",
    "            nn.BatchNorm2d(out_channels),\n",
    "            nn.ReLU(),\n",
    "            nn.Conv2d(out_channels,out_channels * BasicBlock.expansion, kernel_size =3 ,stride = stride, padding= 1 ,bias = False),\n",
    "            nn.BatchNorm2d(out_channels * BasicBlock.expansion),\n",
    "        )\n",
    "        self.shortcut = nn.Sequential()\n",
    "        self.relu = nn.ReLU()\n",
    "        \n",
    "        if stride != 1 or in_channels != BasicBlock.expansion * out_channels :\n",
    "            self.shortcut = nn.Sequential(\n",
    "            nn.Conv2d(in_channels, out_channels * BasicBlock.expansion, kernel_size = 1, stride= stride, bias = False),\n",
    "            nn.BatchNorm2d(out_channels * BasicBlock.expansion)\n",
    "            )\n",
    "    def forward(self,x):\n",
    "        x = self.residual_function(x) + self.shortcut(x)\n",
    "        x = self.relu(x)\n",
    "        return x\n",
    "class BottleNeck(nn.Module):\n",
    "    expansion = 4\n",
    "    def __init__(self, in_channels, out_channels, stride=1):\n",
    "        super().__init__()\n",
    "\n",
    "        self.residual_function = nn.Sequential(\n",
    "            nn.Conv2d(in_channels, out_channels, kernel_size=1, stride=1, bias=False),\n",
    "            nn.BatchNorm2d(out_channels),\n",
    "            nn.ReLU(),\n",
    "            nn.Conv2d(out_channels, out_channels, kernel_size=3, stride=stride, padding=1, bias=False),\n",
    "            nn.BatchNorm2d(out_channels),\n",
    "            nn.ReLU(),\n",
    "            nn.Conv2d(out_channels, out_channels * BottleNeck.expansion, kernel_size=1, stride=1, bias=False),\n",
    "            nn.BatchNorm2d(out_channels * BottleNeck.expansion),\n",
    "        )\n",
    "\n",
    "        self.shortcut = nn.Sequential()\n",
    "\n",
    "        self.relu = nn.ReLU()\n",
    "\n",
    "        if stride != 1 or in_channels != out_channels * BottleNeck.expansion:\n",
    "            self.shortcut = nn.Sequential(\n",
    "                nn.Conv2d(in_channels, out_channels*BottleNeck.expansion, kernel_size=1, stride=stride, bias=False),\n",
    "                nn.BatchNorm2d(out_channels*BottleNeck.expansion)\n",
    "            )\n",
    "            \n",
    "    def forward(self, x):\n",
    "        x = self.residual_function(x) + self.shortcut(x)\n",
    "        x = self.relu(x)\n",
    "        return x"
   ]
  },
  {
   "cell_type": "code",
   "execution_count": null,
   "id": "3f6bf595",
   "metadata": {
    "scrolled": true
   },
   "outputs": [],
   "source": [
    "class Net(nn.Module):\n",
    "    def __init__(self,block,num_block,num_classes = 10, init_weights = True):\n",
    "        super().__init__()\n",
    "        self.in_channels = 64\n",
    "        self.conv1 = nn.Sequential(\n",
    "        nn.Conv2d(3,64,kernel_size = 7, stride = 2,padding =3 ,bias =False),\n",
    "        nn.BatchNorm2d(64),\n",
    "        nn.ReLU(),\n",
    "        nn.MaxPool2d(kernel_size = 3, stride =2, padding =1)\n",
    "        )\n",
    "        self.conv2_x = self._make_layer(block,64,num_block[0],1)\n",
    "        self.conv3_x = self._make_layer(block,128,num_block[1],1)\n",
    "        \n",
    "        self.avg_pool = nn.AdaptiveAvgPool2d((1,1))\n",
    "        self.fc = nn.Linear(128 * block.expansion, num_classes)\n",
    "        if init_weights:\n",
    "            self._initialize_weights()\n",
    "            \n",
    "    def _make_layer(self, block, out_channels, num_blocks, stride):\n",
    "        strides = [stride] + [1] * (num_blocks -1)\n",
    "        layers = []\n",
    "        for stride in strides:\n",
    "            layers.append(block(self.in_channels,out_channels,stride))\n",
    "            self.in_channels = out_channels * block.expansion\n",
    "        return nn.Sequential(*layers)\n",
    "    def forward(self,x):\n",
    "        output = self.conv1(x)\n",
    "        x = self.conv2_x(output)\n",
    "        x = self.conv3_x(x)\n",
    "        x = self.avg_pool(x)\n",
    "        x = x.view(x.size(0),-1)\n",
    "        x = self.fc(x)\n",
    "        return x\n",
    "    def _initialize_weights(self):\n",
    "        for m in self.modules():\n",
    "            if isinstance(m,nn.Conv2d):\n",
    "                nn.init.kaiming_normal_(m.weight,mode = 'fan_out',nonlinearity ='relu')\n",
    "                if m.bias is not None:\n",
    "                    nn.init.constant_(m.bias,0)\n",
    "                elif isinstance(m,nn.BatchNorm2d):\n",
    "                    nn.init.constant_(m.weight,1)\n",
    "                    nn.init.constant_(m.bias,0)\n",
    "                elif isinstance(m,nn.Linear):\n",
    "                    nn.init.normal_(m.weight,0,0.01)\n",
    "                    nn.init.constatnt_(m.bais,0)\n",
    "def resnet18():\n",
    "        return Net(BasicBlock,[2,2])\n",
    "def resnet34():\n",
    "        return Net(BasicBlock,[3,4,6,3])\n",
    "net = resnet34()"
   ]
  },
  {
   "cell_type": "code",
   "execution_count": null,
   "id": "1f263a76",
   "metadata": {},
   "outputs": [],
   "source": [
    "model = torchvision.models.resnet34(pretrained = False)"
   ]
  },
  {
   "cell_type": "code",
   "execution_count": null,
   "id": "45c3f596",
   "metadata": {
    "scrolled": true
   },
   "outputs": [],
   "source": [
    "from torchsummary import summary\n",
    "net.to(device)\n",
    "summary(net, (3,224,224), device = device.type)"
   ]
  },
  {
   "cell_type": "code",
   "execution_count": null,
   "id": "aa675091",
   "metadata": {},
   "outputs": [],
   "source": [
    "# 사전학습된 가중치를 가져오지 않도록 pretrained는 Fasle\n",
    "model = torchvision.models.resnet34(pretrained = False)\n",
    "\n",
    "# number of features in the input of the linear layer\n",
    "num_ftrs = model.fc.in_features\n",
    "\n",
    "# sets the number of features of the linear layer\n",
    "model.fc = torch.nn.Linear(num_ftrs, NUM_CLASSES)\n",
    "\n",
    "# parameters\n",
    "criterion = torch.nn.CrossEntropyLoss()\n",
    "optimizer = torch.optim.Adam(model.parameters(), lr = LEARNING_RATE)\n",
    "model = model.to(device)\n",
    "\n",
    "# model summary\n",
    "summary(model, (3, IMG_SIZE[0], IMG_SIZE[1]), BATCH_SIZE)"
   ]
  },
  {
   "cell_type": "code",
   "execution_count": null,
   "id": "f444a1fc",
   "metadata": {},
   "outputs": [],
   "source": [
    "def train_model(model, criterion, optimizer, num_epochs, train_loader,val_loader):\n",
    "    since = time.time()\n",
    "    best_model = copy.deepcopy(model.state_dict())\n",
    "    best_acc = 0.0\n",
    "    \n",
    "    for epoch in range(num_epochs):\n",
    "        print('Epoch {}/{}'.format(epoch + 1, num_epochs))\n",
    "        \n",
    "        # train\n",
    "        model.train()\n",
    "        running_loss = 0.0\n",
    "        running_corrects = 0\n",
    "\n",
    "        \n",
    "        for step, (inputs, labels) in enumerate(train_loader):\n",
    "            inputs = inputs.to(device)\n",
    "            labels = labels.to(device)\n",
    "            optimizer.zero_grad()\n",
    "            with torch.set_grad_enabled(True):\n",
    "                outputs = model(inputs)\n",
    "                _, preds = torch.max(outputs, 1)\n",
    "                loss = criterion(outputs, labels)\n",
    "                loss.backward()\n",
    "                optimizer.step()\n",
    "            running_loss += loss.item() * inputs.size(0)\n",
    "            running_corrects += torch.sum(preds == labels.data)\n",
    "        epoch_loss = running_loss / train_size\n",
    "        epoch_acc = running_corrects.double() / train_size\n",
    "        print('Train Loss: {:.4f} Train Acc: {:.4f}'.format(epoch_loss, epoch_acc))\n",
    "\n",
    "        # validate\n",
    "        model.eval()\n",
    "        running_loss = 0.0\n",
    "        running_corrects = 0\n",
    "        for inputs, labels in val_loader:\n",
    "            inputs = inputs.to(DEVICE)\n",
    "            labels = labels.to(DEVICE)\n",
    "            optimizer.zero_grad()\n",
    "            with torch.set_grad_enabled(False):\n",
    "                outputs = model(inputs)\n",
    "                _, preds = torch.max(outputs, 1)\n",
    "                loss = criterion(outputs, labels)\n",
    "            running_loss += loss.item() * inputs.size(0)\n",
    "            running_corrects += torch.sum(preds == labels.data)\n",
    "        epoch_loss = running_loss / val_size\n",
    "        epoch_acc = running_corrects.double() / val_size\n",
    "        print('Val Loss: {:.4f} Val Acc: {:.4f}'.format(epoch_loss, epoch_acc))\n",
    "        print('-' * 30)\n",
    "        if epoch_acc > best_acc:\n",
    "            best_acc = epoch_acc\n",
    "            best_model = copy.deepcopy(model.state_dict())\n",
    "        \n",
    "    time_elapsed = time.time() - since\n",
    "    print('Training complete in {:.0f}m {:.0f}s'.format(time_elapsed // 60, time_elapsed % 60))\n",
    "    print('Best Val Acc: {:.4f}'.format(best_acc))\n",
    "    model.load_state_dict(best_model)\n",
    "    return model"
   ]
  },
  {
   "cell_type": "code",
   "execution_count": null,
   "id": "44924920",
   "metadata": {
    "scrolled": true
   },
   "outputs": [],
   "source": [
    "import torch.optim as optim\n",
    "\n",
    "criterion = nn.CrossEntropyLoss()\n",
    "optimizer = optim.Adam(net.parameters(), lr=1e-5)\n",
    "model = net.to(device)\n",
    "param = list(net.parameters())\n"
   ]
  },
  {
   "cell_type": "code",
   "execution_count": null,
   "id": "1bf2d80e",
   "metadata": {
    "scrolled": true
   },
   "outputs": [],
   "source": [
    "model = train_model(net, criterion, optimizer, 50, train_dl, test_dl)"
   ]
  },
  {
   "cell_type": "code",
   "execution_count": null,
   "id": "5a1c23d5",
   "metadata": {
    "scrolled": true
   },
   "outputs": [],
   "source": [
    "from tqdm import tqdm\n",
    "\n",
    "for Epoch in tqdm(range(30)):\n",
    "    for batch, labels in train_dl:\n",
    "        batch = batch.to(device)\n",
    "        labels = labels.to(device)\n",
    "        optimizer.zero_grad()\n",
    "        \n",
    "        output = model(batch)\n",
    "        loss = criterion(output,labels)\n",
    "        loss.backward()\n",
    "        optimizer.step()\n",
    "        acc = compute_acc(labels.detach().cpu().numpy(), output.detach().cpu().numpy().argmax(-1))\n",
    "        \n",
    "    if Epoch % 10 == 0 or Epoch == 29:\n",
    "        print(f'Epoch {Epoch}, loss : {loss}, acc : {acc}')"
   ]
  },
  {
   "cell_type": "code",
   "execution_count": null,
   "id": "6eeb7c0a",
   "metadata": {},
   "outputs": [],
   "source": [
    "test_df = pd.read_csv('./test/test_data.csv') \n",
    "test_file_dir = './test/'"
   ]
  },
  {
   "cell_type": "code",
   "execution_count": null,
   "id": "f6c34122",
   "metadata": {},
   "outputs": [],
   "source": [
    "test_mnist_dataset = MNIST(test_file_dir + test_df['file_name'])\n",
    "test_mnist_loader = DataLoader(test_mnist_dataset, batch_size = 32)\n",
    "preds = None\n",
    "\n",
    "for test_batch in tqdm(test_mnist_loader):\n",
    "    test_batch = test_batch.to(device)\n",
    "    output = net(test_batch)\n",
    "    \n",
    "    digit_pred = output.detach().cpu().numpy().argmax(-1)\n",
    "    if preds is None:\n",
    "        preds = digit_pred\n",
    "    else:\n",
    "        preds = np.concatenate([preds,digit_pred])\n",
    "        "
   ]
  },
  {
   "cell_type": "code",
   "execution_count": null,
   "id": "7f3c1e77",
   "metadata": {},
   "outputs": [],
   "source": [
    "submission = pd.read_csv('./sample_submission.csv') # sample submission 불러오기\n",
    "\n",
    "submission['label'] = preds\n",
    "\n",
    "submission.to_csv('submission.csv', index=False)"
   ]
  },
  {
   "cell_type": "code",
   "execution_count": null,
   "id": "7bd88ce3",
   "metadata": {},
   "outputs": [],
   "source": [
    "preds[4866]"
   ]
  },
  {
   "cell_type": "code",
   "execution_count": null,
   "id": "055447ea",
   "metadata": {},
   "outputs": [],
   "source": []
  }
 ],
 "metadata": {
  "kernelspec": {
   "display_name": "Python 3",
   "language": "python",
   "name": "python3"
  },
  "language_info": {
   "codemirror_mode": {
    "name": "ipython",
    "version": 3
   },
   "file_extension": ".py",
   "mimetype": "text/x-python",
   "name": "python",
   "nbconvert_exporter": "python",
   "pygments_lexer": "ipython3",
   "version": "3.8.8"
  }
 },
 "nbformat": 4,
 "nbformat_minor": 5
}
