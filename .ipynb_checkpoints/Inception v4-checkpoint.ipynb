{
 "cells": [
  {
   "cell_type": "code",
   "execution_count": 1,
   "id": "58f9ca96",
   "metadata": {},
   "outputs": [],
   "source": [
    "import pandas as pd\n",
    "import numpy as np\n",
    "from PIL import Image\n",
    "import matplotlib.pyplot as plt\n",
    "%matplotlib inline\n",
    "import warnings\n",
    "warnings.filterwarnings('ignore')"
   ]
  },
  {
   "cell_type": "code",
   "execution_count": 2,
   "id": "83faa0d6",
   "metadata": {},
   "outputs": [
    {
     "data": {
      "text/html": [
       "<div>\n",
       "<style scoped>\n",
       "    .dataframe tbody tr th:only-of-type {\n",
       "        vertical-align: middle;\n",
       "    }\n",
       "\n",
       "    .dataframe tbody tr th {\n",
       "        vertical-align: top;\n",
       "    }\n",
       "\n",
       "    .dataframe thead th {\n",
       "        text-align: right;\n",
       "    }\n",
       "</style>\n",
       "<table border=\"1\" class=\"dataframe\">\n",
       "  <thead>\n",
       "    <tr style=\"text-align: right;\">\n",
       "      <th></th>\n",
       "      <th>filen_name</th>\n",
       "      <th>label</th>\n",
       "    </tr>\n",
       "  </thead>\n",
       "  <tbody>\n",
       "    <tr>\n",
       "      <th>0</th>\n",
       "      <td>train0001.png</td>\n",
       "      <td>8</td>\n",
       "    </tr>\n",
       "    <tr>\n",
       "      <th>1</th>\n",
       "      <td>train0002.png</td>\n",
       "      <td>8</td>\n",
       "    </tr>\n",
       "    <tr>\n",
       "      <th>2</th>\n",
       "      <td>train0003.png</td>\n",
       "      <td>8</td>\n",
       "    </tr>\n",
       "    <tr>\n",
       "      <th>3</th>\n",
       "      <td>train0004.png</td>\n",
       "      <td>8</td>\n",
       "    </tr>\n",
       "    <tr>\n",
       "      <th>4</th>\n",
       "      <td>train0005.png</td>\n",
       "      <td>8</td>\n",
       "    </tr>\n",
       "    <tr>\n",
       "      <th>...</th>\n",
       "      <td>...</td>\n",
       "      <td>...</td>\n",
       "    </tr>\n",
       "    <tr>\n",
       "      <th>4995</th>\n",
       "      <td>train4996.png</td>\n",
       "      <td>6</td>\n",
       "    </tr>\n",
       "    <tr>\n",
       "      <th>4996</th>\n",
       "      <td>train4997.png</td>\n",
       "      <td>6</td>\n",
       "    </tr>\n",
       "    <tr>\n",
       "      <th>4997</th>\n",
       "      <td>train4998.png</td>\n",
       "      <td>6</td>\n",
       "    </tr>\n",
       "    <tr>\n",
       "      <th>4998</th>\n",
       "      <td>train4999.png</td>\n",
       "      <td>6</td>\n",
       "    </tr>\n",
       "    <tr>\n",
       "      <th>4999</th>\n",
       "      <td>train5000.png</td>\n",
       "      <td>6</td>\n",
       "    </tr>\n",
       "  </tbody>\n",
       "</table>\n",
       "<p>5000 rows × 2 columns</p>\n",
       "</div>"
      ],
      "text/plain": [
       "         filen_name  label\n",
       "0     train0001.png      8\n",
       "1     train0002.png      8\n",
       "2     train0003.png      8\n",
       "3     train0004.png      8\n",
       "4     train0005.png      8\n",
       "...             ...    ...\n",
       "4995  train4996.png      6\n",
       "4996  train4997.png      6\n",
       "4997  train4998.png      6\n",
       "4998  train4999.png      6\n",
       "4999  train5000.png      6\n",
       "\n",
       "[5000 rows x 2 columns]"
      ]
     },
     "execution_count": 2,
     "metadata": {},
     "output_type": "execute_result"
    }
   ],
   "source": [
    "path = './train/train_data.csv'\n",
    "\n",
    "df = pd.read_csv(path)\n",
    "df"
   ]
  },
  {
   "cell_type": "code",
   "execution_count": 3,
   "id": "0f69b194",
   "metadata": {},
   "outputs": [],
   "source": [
    "train_file_name = df['filen_name']\n",
    "train_label = df['label']\n",
    "\n",
    "# image 파일을 불러온뒤 변수에 저장\n",
    "train_image = []\n",
    "for file in train_file_name:\n",
    "    train_image.append(Image.open('./train/' + file))\n",
    "image_to_number = np.array([np.array(image).flatten() for image in train_image])\n"
   ]
  },
  {
   "cell_type": "code",
   "execution_count": 4,
   "id": "9c0256b2",
   "metadata": {},
   "outputs": [
    {
     "data": {
      "text/plain": [
       "(5000, 784)"
      ]
     },
     "execution_count": 4,
     "metadata": {},
     "output_type": "execute_result"
    }
   ],
   "source": [
    "image_to_number.shape"
   ]
  },
  {
   "cell_type": "code",
   "execution_count": 5,
   "id": "873f7d9f",
   "metadata": {
    "scrolled": true
   },
   "outputs": [],
   "source": [
    "all_images = pd.DataFrame(image_to_number)\n",
    "all_images['labels'] = df['label']"
   ]
  },
  {
   "cell_type": "code",
   "execution_count": 6,
   "id": "6008718c",
   "metadata": {},
   "outputs": [],
   "source": [
    "def compute_acc(true, pred):\n",
    "    return sum(true == pred) / len(true)"
   ]
  },
  {
   "cell_type": "code",
   "execution_count": 7,
   "id": "df9d95de",
   "metadata": {},
   "outputs": [],
   "source": [
    "import torch\n",
    "from torch.utils.data import Dataset, DataLoader\n",
    "from torch import nn\n",
    "from torchvision import transforms\n",
    "import torch.nn.functional as F\n",
    "\n",
    "class MNIST(Dataset):\n",
    "    def __init__(self,file_path_list,labels = None):\n",
    "            self.file_path_list = file_path_list\n",
    "            self.labels = labels \n",
    "            self.PIL2tensor = transforms.PILToTensor()\n",
    "    def __getitem__(self,idx):\n",
    "        image = Image.open(self.file_path_list[idx])\n",
    "        tensor_image = self.PIL2tensor(image)\n",
    "        flattend_image = tensor_image.float()\n",
    "        \n",
    "        if self.labels is not None:\n",
    "            label = self.labels[idx]\n",
    "            return flattend_image, label\n",
    "        \n",
    "        return flattend_image\n",
    "    \n",
    "    def __len__(self):\n",
    "        return len(self.file_path_list)"
   ]
  },
  {
   "cell_type": "code",
   "execution_count": 8,
   "id": "aac61fb0",
   "metadata": {},
   "outputs": [
    {
     "name": "stdout",
     "output_type": "stream",
     "text": [
      "cuda:0 is available\n"
     ]
    }
   ],
   "source": [
    "device = torch.device('cuda:0' if torch.cuda.is_available() else 'cpu')\n",
    "print(f'{device} is available')"
   ]
  },
  {
   "cell_type": "code",
   "execution_count": 9,
   "id": "71749e0f",
   "metadata": {},
   "outputs": [],
   "source": [
    "file_path_list = './train/' + df['filen_name']\n",
    "labels = df['label']\n",
    "\n",
    "mnist_dataset = MNIST(file_path_list,labels)\n",
    "mnist_loader = DataLoader(mnist_dataset,batch_size =32, shuffle = True)"
   ]
  },
  {
   "cell_type": "code",
   "execution_count": null,
   "id": "76beb968",
   "metadata": {},
   "outputs": [],
   "source": []
  },
  {
   "cell_type": "code",
   "execution_count": null,
   "id": "d9370c58",
   "metadata": {},
   "outputs": [],
   "source": []
  },
  {
   "cell_type": "code",
   "execution_count": 10,
   "id": "3f6bf595",
   "metadata": {},
   "outputs": [],
   "source": [
    "class Net(nn.Module):\n",
    "    def __init__(self):\n",
    "        super(Net,self).__init__()\n",
    "        # 3 224 128\n",
    "        self.conv = nn.Sequential(\n",
    "        nn.Conv2d(1,64,3,padding = 1),nn.LeakyReLU(0.2),\n",
    "        nn.Conv2d(64,64,3,padding = 1),nn.LeakyReLU(0.2),\n",
    "        nn.MaxPool2d(2,2),\n",
    "        #64,112 64\n",
    "        nn.Conv2d(64,128,3,padding = 1),nn.LeakyReLU(0.2),\n",
    "        nn.Conv2d(128,128,3,padding = 1),nn.LeakyReLU(0.2),\n",
    "        nn.Conv2d(128,128,3,padding = 1),nn.LeakyReLU(0.2),\n",
    "        nn.MaxPool2d(2,2),\n",
    "        #128 56 32\n",
    "#         nn.Conv2d(128,256,3,padding = 1),nn.LeakyReLU(0.2), 이미지 크기가 너무 작음. \n",
    "#         nn.Conv2d(256,256,3,padding = 1),nn.LeakyReLU(0.2),\n",
    "#         nn.Conv2d(256,256,3,padding = 1),nn.LeakyReLU(0.2),\n",
    "#       nn.MaxPool2d(2,2),\n",
    "        #256 28 16\n",
    "#         nn.Conv2d(256,512,3,padding = 1),nn.LeakyReLU(0.2),\n",
    "#         nn.Conv2d(512,512,3,padding = 1),nn.LeakyReLU(0.2),\n",
    "#         nn.Conv2d(512,512,3,padding = 1),nn.LeakyReLU(0.2),\n",
    "#         nn.MaxPool2d(2,2)\n",
    "        )\n",
    "        self.avg_pool = nn.AvgPool2d(7) # 이미지의 크기가 28 14 7의 순서로 줄어듦\n",
    "        self.classifier = nn.Linear(128,10) # FullyConected\n",
    "    def forward(self,x):\n",
    "        features = self.conv(x)\n",
    "        x = self.avg_pool(features)\n",
    "        x = x.view(features.size(0), -1)\n",
    "        x = torch.flatten(x,1)\n",
    "        x = self.classifier(x)\n",
    "        return x\n",
    "net = Net()"
   ]
  },
  {
   "cell_type": "code",
   "execution_count": 11,
   "id": "4bd93923",
   "metadata": {
    "scrolled": true
   },
   "outputs": [
    {
     "name": "stdout",
     "output_type": "stream",
     "text": [
      "----------------------------------------------------------------\n",
      "        Layer (type)               Output Shape         Param #\n",
      "================================================================\n",
      "            Conv2d-1           [-1, 64, 28, 28]             640\n",
      "         LeakyReLU-2           [-1, 64, 28, 28]               0\n",
      "            Conv2d-3           [-1, 64, 28, 28]          36,928\n",
      "         LeakyReLU-4           [-1, 64, 28, 28]               0\n",
      "         MaxPool2d-5           [-1, 64, 14, 14]               0\n",
      "            Conv2d-6          [-1, 128, 14, 14]          73,856\n",
      "         LeakyReLU-7          [-1, 128, 14, 14]               0\n",
      "            Conv2d-8          [-1, 128, 14, 14]         147,584\n",
      "         LeakyReLU-9          [-1, 128, 14, 14]               0\n",
      "           Conv2d-10          [-1, 128, 14, 14]         147,584\n",
      "        LeakyReLU-11          [-1, 128, 14, 14]               0\n",
      "        MaxPool2d-12            [-1, 128, 7, 7]               0\n",
      "        AvgPool2d-13            [-1, 128, 1, 1]               0\n",
      "           Linear-14                   [-1, 10]           1,290\n",
      "================================================================\n",
      "Total params: 407,882\n",
      "Trainable params: 407,882\n",
      "Non-trainable params: 0\n",
      "----------------------------------------------------------------\n",
      "Input size (MB): 0.00\n",
      "Forward/backward pass size (MB): 2.82\n",
      "Params size (MB): 1.56\n",
      "Estimated Total Size (MB): 4.38\n",
      "----------------------------------------------------------------\n"
     ]
    }
   ],
   "source": [
    "from torchsummary import summary\n",
    "net.to(device)\n",
    "summary(net, (1,28,28), device = device.type)"
   ]
  },
  {
   "cell_type": "code",
   "execution_count": 12,
   "id": "44924920",
   "metadata": {
    "scrolled": true
   },
   "outputs": [],
   "source": [
    "import torch.optim as optim\n",
    "\n",
    "criterion = nn.CrossEntropyLoss()\n",
    "optimizer = optim.Adam(net.parameters(), lr=1e-5)\n",
    "net.to(device)\n",
    "param = list(net.parameters())\n"
   ]
  },
  {
   "cell_type": "code",
   "execution_count": 13,
   "id": "5a1c23d5",
   "metadata": {
    "scrolled": true
   },
   "outputs": [
    {
     "name": "stderr",
     "output_type": "stream",
     "text": [
      "  3%|██▊                                                                                | 1/30 [00:04<02:09,  4.46s/it]"
     ]
    },
    {
     "name": "stdout",
     "output_type": "stream",
     "text": [
      "Epoch 0, loss : 2.12542724609375, acc : 0.375\n"
     ]
    },
    {
     "name": "stderr",
     "output_type": "stream",
     "text": [
      " 37%|██████████████████████████████                                                    | 11/30 [00:48<01:26,  4.57s/it]"
     ]
    },
    {
     "name": "stdout",
     "output_type": "stream",
     "text": [
      "Epoch 10, loss : 0.07761864364147186, acc : 1.0\n"
     ]
    },
    {
     "name": "stderr",
     "output_type": "stream",
     "text": [
      " 70%|█████████████████████████████████████████████████████████▍                        | 21/30 [01:33<00:39,  4.43s/it]"
     ]
    },
    {
     "name": "stdout",
     "output_type": "stream",
     "text": [
      "Epoch 20, loss : 0.09386073797941208, acc : 1.0\n"
     ]
    },
    {
     "name": "stderr",
     "output_type": "stream",
     "text": [
      "100%|██████████████████████████████████████████████████████████████████████████████████| 30/30 [02:13<00:00,  4.46s/it]"
     ]
    },
    {
     "name": "stdout",
     "output_type": "stream",
     "text": [
      "Epoch 29, loss : 0.023296352475881577, acc : 1.0\n"
     ]
    },
    {
     "name": "stderr",
     "output_type": "stream",
     "text": [
      "\n"
     ]
    }
   ],
   "source": [
    "from tqdm import tqdm\n",
    "\n",
    "for Epoch in tqdm(range(30)):\n",
    "    for batch, labels in mnist_loader:\n",
    "        batch = batch.to(device)\n",
    "        labels = labels.to(device)\n",
    "        optimizer.zero_grad()\n",
    "        \n",
    "        output = net(batch)\n",
    "        loss = criterion(output,labels)\n",
    "        loss.backward()\n",
    "        optimizer.step()\n",
    "        acc = compute_acc(labels.detach().cpu().numpy(), output.detach().cpu().numpy().argmax(-1))\n",
    "        \n",
    "    if Epoch % 10 == 0 or Epoch == 29:\n",
    "        print(f'Epoch {Epoch}, loss : {loss}, acc : {acc}')"
   ]
  },
  {
   "cell_type": "code",
   "execution_count": 14,
   "id": "6eeb7c0a",
   "metadata": {},
   "outputs": [],
   "source": [
    "test_df = pd.read_csv('./test/test_data.csv') \n",
    "test_file_dir = './test/'"
   ]
  },
  {
   "cell_type": "code",
   "execution_count": 15,
   "id": "f6c34122",
   "metadata": {},
   "outputs": [
    {
     "name": "stderr",
     "output_type": "stream",
     "text": [
      "100%|████████████████████████████████████████████████████████████████████████████████| 157/157 [00:03<00:00, 48.49it/s]\n"
     ]
    }
   ],
   "source": [
    "test_mnist_dataset = MNIST(test_file_dir + test_df['file_name'])\n",
    "test_mnist_loader = DataLoader(test_mnist_dataset, batch_size = 32)\n",
    "preds = None\n",
    "\n",
    "for test_batch in tqdm(test_mnist_loader):\n",
    "    test_batch = test_batch.to(device)\n",
    "    output = net(test_batch)\n",
    "    \n",
    "    digit_pred = output.detach().cpu().numpy().argmax(-1)\n",
    "    if preds is None:\n",
    "        preds = digit_pred\n",
    "    else:\n",
    "        preds = np.concatenate([preds,digit_pred])\n",
    "        "
   ]
  },
  {
   "cell_type": "code",
   "execution_count": 16,
   "id": "7f3c1e77",
   "metadata": {},
   "outputs": [],
   "source": [
    "submission = pd.read_csv('./sample_submission.csv') # sample submission 불러오기\n",
    "\n",
    "submission['label'] = preds\n",
    "\n",
    "submission.to_csv('submission.csv', index=False)"
   ]
  },
  {
   "cell_type": "code",
   "execution_count": null,
   "id": "5debeca1",
   "metadata": {},
   "outputs": [],
   "source": []
  }
 ],
 "metadata": {
  "kernelspec": {
   "display_name": "Python 3",
   "language": "python",
   "name": "python3"
  },
  "language_info": {
   "codemirror_mode": {
    "name": "ipython",
    "version": 3
   },
   "file_extension": ".py",
   "mimetype": "text/x-python",
   "name": "python",
   "nbconvert_exporter": "python",
   "pygments_lexer": "ipython3",
   "version": "3.8.8"
  }
 },
 "nbformat": 4,
 "nbformat_minor": 5
}
